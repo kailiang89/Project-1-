{
 "cells": [
  {
   "cell_type": "markdown",
   "metadata": {},
   "source": [
    "<img src=\"http://imgur.com/1ZcRyrc.png\" style=\"float: left; margin: 15px; height: 80px\">\n",
    "\n",
    "# Project 1\n",
    "\n",
    "### Building \"Pokemon Stay\"\n",
    "\n",
    "---\n",
    "You are an analyst at a \"scrappy\" online gaming company that specializes in remakes of last year's fads.\n",
    "\n",
    "Your boss, who runs the product development team, is convinced that Pokemon Go's fatal flaw was that you had to actually move around outside. She has design mock-ups for a new game called Pokemon Stay: in this version players still need to move, but just from website to website. Pokemon gyms are now popular online destinations, and catching Pokemon in the \"wild\" simply requires browsing the internet for hours in the comfort of your home.\n",
    "\n",
    "She wants you to program a prototype version of the game, and analyze the planned content to help the team calibrate the design."
   ]
  },
  {
   "cell_type": "markdown",
   "metadata": {},
   "source": [
    "#### Package imports\n",
    "\n",
    "The pprint package below is the only package imported here, and it's not even strictly required to do any of the project. Printing python variables and objects with pprint can help to format them in a \"prettier\" way."
   ]
  },
  {
   "cell_type": "code",
   "execution_count": 1,
   "metadata": {},
   "outputs": [],
   "source": [
    "from pprint import pprint"
   ]
  },
  {
   "cell_type": "markdown",
   "metadata": {},
   "source": [
    "<img src=\"http://imgur.com/l5NasQj.png\" style=\"float: left; margin: 25px 15px 0px 0px; height: 25px\">\n",
    "\n",
    "## 1. Defining a player\n",
    "\n",
    "---\n",
    "\n",
    "The player variables are:\n",
    "\n",
    "    player_id : id code unique to each player (integer)\n",
    "    player_name : entered name of the player (string)\n",
    "    time_played : number of time played the game in minutes (float)\n",
    "    player_pokemon: the player's captured pokemon (dictionary)\n",
    "    gyms_visited: ids of the gyms that a player has visited (list)\n",
    "    \n",
    "Create the components for a player object by defining each of these variables. The dictionary and list variables should just be defined as empty; you can use any (correctly typed) values for the others."
   ]
  },
  {
   "cell_type": "code",
   "execution_count": 2,
   "metadata": {},
   "outputs": [],
   "source": [
    "\n",
    "player_id = 1\n",
    "player_name = \"Ash ketchup\" \n",
    "time_played = 1.0\n",
    "player_pokemon = { 'pokemon':''}\n",
    "gyms_visited = []\n",
    "\n"
   ]
  },
  {
   "cell_type": "markdown",
   "metadata": {},
   "source": [
    "<img src=\"http://imgur.com/l5NasQj.png\" style=\"float: left; margin: 25px 15px 0px 0px; height: 25px\">\n",
    "\n",
    "## 2. Defining \"gym\" locations\n",
    "\n",
    "---\n",
    "\n",
    "As the sole programmer, Pokemon Stay will have to start small. To begin, there will be 10 different gym location websites on the internet. The gym locations are:\n",
    "\n",
    "    1. 'reddit.com'\n",
    "    2. 'amazon.com'\n",
    "    3. 'twitter.com'\n",
    "    4. 'linkedin.com'\n",
    "    5. 'ebay.com'\n",
    "    6. 'netflix.com'\n",
    "    7. 'sporcle.com'\n",
    "    8. 'stackoverflow.com'\n",
    "    9. 'github.com'\n",
    "    10. 'quora.com'\n",
    "\n",
    "1. Set up a list of all the gym locations. This will be a list of strings.\n",
    "2. Append two of these locations to your player's list of visited gyms.\n",
    "3. Print the list."
   ]
  },
  {
   "cell_type": "code",
   "execution_count": 3,
   "metadata": {},
   "outputs": [
    {
     "name": "stdout",
     "output_type": "stream",
     "text": [
      "['reddit.com', 'amazon.com']\n"
     ]
    }
   ],
   "source": [
    "gym_locations = ['reddit.com','amazon.com','twitter.com','linkedin.com','ebay.com','netflix.com','sporcle.com','stackoverflow.com','github.com','quora.com']\n",
    "gyms_visited = gym_locations[0:2]\n",
    "print gyms_visited"
   ]
  },
  {
   "cell_type": "markdown",
   "metadata": {},
   "source": [
    "<img src=\"http://imgur.com/l5NasQj.png\" style=\"float: left; margin: 25px 15px 0px 0px; height: 25px\">\n",
    "\n",
    "## 3. Create a pokedex\n",
    "\n",
    "---\n",
    "\n",
    "We also need to create some pokemon to catch. Each pokemon will be defined by these variables:\n",
    "\n",
    "    pokemon_id : unique identifier for each pokemon (integer)\n",
    "    name : the name of the pokemon (string)\n",
    "    type : the category of pokemon (string)\n",
    "    hp : base hitpoints (integer)\n",
    "    attack : base attack (integer)\n",
    "    defense : base defense (integer)\n",
    "    special_attack : base special attack (integer)\n",
    "    special_defense : base sepecial defense (integer)\n",
    "    speed : base speed (integer)\n",
    "\n",
    "We are only going to create 3 different pokemon with these `pokemon_id` and `pokemon_name` values:\n",
    "\n",
    "    1 : 'charmander'\n",
    "    2 : 'squirtle'\n",
    "    3 : 'bulbasaur'\n",
    "\n",
    "Create a dictionary that will contain the pokemon. The keys of the dictionary will be the `pokemon_id` and the values will themselves dictionaries that contain the other pokemon variables. The structure of the pokedex dictionary will start like so:\n",
    "     \n",
    "     {\n",
    "         1: {\n",
    "                 'name':'charmander',\n",
    "                 'type':'fire',\n",
    "                 ...\n",
    "                 \n",
    "The `type` of charmander, squirtle, and bulbasaur should be `'fire'`, `'water'`, and `'poison'` respectively. The other values are up to you, make them anything you like!\n",
    "\n",
    "Print (or pretty print) the pokedex dictionary with the 3 pokemon."
   ]
  },
  {
   "cell_type": "code",
   "execution_count": 4,
   "metadata": {},
   "outputs": [],
   "source": [
    "\n",
    "\n",
    "pokedex = {\n",
    "     1: {\n",
    "             'name':'charmander',\n",
    "             'type':'fire',\n",
    "             'hp' : 52,\n",
    "             'attack' : 102,\n",
    "             'defense' : 74,\n",
    "             'special_attack' : 124,\n",
    "             'special_defense' : 152,\n",
    "             'speed' : 201},\n",
    "     2: {\n",
    "             'name':'squirtle',\n",
    "             'type':'fire',\n",
    "             'hp' : 53,\n",
    "             'attack' : 85,\n",
    "             'defense' : 120,\n",
    "             'special_attack' : 100,\n",
    "             'special_defense' : 250,\n",
    "             'speed' : 180},\n",
    "     3: {\n",
    "             'name':'bulbasaur',\n",
    "             'type':'fire',\n",
    "             'hp' : 55,\n",
    "             'attack' : 95,\n",
    "             'defense' : 85,\n",
    "             'special_attack' : 110,\n",
    "             'special_defense' : 133,\n",
    "             'speed' : 150}\n",
    "}\n"
   ]
  },
  {
   "cell_type": "markdown",
   "metadata": {},
   "source": [
    "<img src=\"http://imgur.com/l5NasQj.png\" style=\"float: left; margin: 25px 15px 0px 0px; height: 25px\">\n",
    "\n",
    "## 4. Create a data structure for players\n",
    "\n",
    "---\n",
    "\n",
    "### 4.1 \n",
    "\n",
    "In order to maintain a database of multiple players, create a dictionary that keeps track of players indexed by `player_id`. \n",
    "\n",
    "The keys of the dictionary will be `player_id` and values will be dictionaries containing each player's variables (from question 1). \n",
    "\n",
    "Construct the `players` dictionary and insert the player that you defined in question 1, then print `players`."
   ]
  },
  {
   "cell_type": "code",
   "execution_count": 5,
   "metadata": {},
   "outputs": [
    {
     "name": "stdout",
     "output_type": "stream",
     "text": [
      "{1: {'player_id': 1, 'time_played': 1.0, 'gyms_visited': ['reddit.com', 'amazon.com'], 'player_name': 'Hash ketchup', 'player_pokemon': {'pokemon': []}}}\n"
     ]
    }
   ],
   "source": [
    "#create dictionary called \"players\" and add information of player 1 into the dictionary.\n",
    "\n",
    "players = { 1:{\n",
    "'player_id': 1,\n",
    "'player_name' : \"Hash ketchup\", \n",
    "'time_played' : 1.0,\n",
    "'player_pokemon' : { 'pokemon':[]},\n",
    "'gyms_visited' : ['reddit.com', 'amazon.com'],}    \n",
    "}\n",
    "print players"
   ]
  },
  {
   "cell_type": "markdown",
   "metadata": {},
   "source": [
    "---\n",
    "\n",
    "### 4.2\n",
    "\n",
    "Create a new player with `player_id = 2` in the `players` dictionary. Leave the `'player_pokemon'` dictionary empty. Append `'alcatraz'` and `'pacific_beach'` to the `'gyms_visited'` list for player 2.\n",
    "\n",
    "The `'player_name'` and `'time_played'` values are up to you, but must be a string and float, respectively.\n",
    "\n",
    "Remember, the player_id is the key for the player in the players dictionary.\n",
    "\n",
    "Print the `players` dictionary with the new player inserted."
   ]
  },
  {
   "cell_type": "code",
   "execution_count": 6,
   "metadata": {},
   "outputs": [
    {
     "name": "stdout",
     "output_type": "stream",
     "text": [
      "{1: {'player_id': 1, 'time_played': 1.0, 'gyms_visited': ['reddit.com', 'amazon.com'], 'player_name': 'Hash ketchup', 'player_pokemon': {'pokemon': []}}, 2: {'player_id': 2, 'time_played': 1.0, 'gyms_visited': ['alcatraz', 'pacific_beach'], 'player_name': 'kash Atchup', 'player_pokemon': {'pokemon': []}}}\n"
     ]
    }
   ],
   "source": [
    "# create a new player_id in players dictionary.\n",
    "# player_id 2 has a key of \"2\" in dictionary.\n",
    "\n",
    "players[2] = {'player_id': 2,'player_name' : 'kash Atchup', 'time_played' : 1.0,\n",
    "              'player_pokemon' : { 'pokemon':[]},'gyms_visited' : []}\n",
    "\n",
    "# appending 'alcatraz' and 'pacific_beach' to the 'gyms_visited' list for player 2.\n",
    "\n",
    "players[2]['gyms_visited'] = ['alcatraz','pacific_beach']\n",
    "\n",
    "#print players to see if list is appended\n",
    "print players"
   ]
  },
  {
   "cell_type": "markdown",
   "metadata": {},
   "source": [
    "<img src=\"http://imgur.com/l5NasQj.png\" style=\"float: left; margin: 25px 15px 0px 0px; height: 25px\">\n",
    "\n",
    "## 5. Add captured pokemon for each player\n",
    "\n",
    "---\n",
    "\n",
    "The `'player_pokemon'` keyed dictionaries for each player keep track of which of the pokemon each player has.\n",
    "\n",
    "The keys of the `'player_pokemon'` dictionaries are the pokemon ids that correspond to the ids in the `pokedex` dictionary you created earlier. The values are integers specifying the stats for the pokemon.\n",
    "\n",
    "Give player 1 a squirtle. Give player 2 charmander and a bulbasaur.\n",
    "\n",
    "Print the players dictionary after adding the pokemon for each player.\n"
   ]
  },
  {
   "cell_type": "code",
   "execution_count": 7,
   "metadata": {},
   "outputs": [
    {
     "name": "stdout",
     "output_type": "stream",
     "text": [
      "{1: {'player_id': 1, 'time_played': 1.0, 'gyms_visited': ['reddit.com', 'amazon.com'], 'player_name': 'Hash ketchup', 'player_pokemon': {'pokemon': ['charmander']}}, 2: {'player_id': 2, 'time_played': 1.0, 'gyms_visited': ['alcatraz', 'pacific_beach'], 'player_name': 'kash Atchup', 'player_pokemon': {'pokemon': ['charmander', 'bulbasaur']}}}\n"
     ]
    }
   ],
   "source": [
    "#adding charmander to list of pokemon dictionary under 'player_pokemon' for player 1\n",
    "players[1]['player_pokemon']['pokemon'].append(pokedex[1]['name'])\n",
    "\n",
    "#try to use update()\n",
    "#adding charmander and bulbasaur to list of pokemon dictionary under 'player_pokemon' for player 2\n",
    "players[2]['player_pokemon']['pokemon'].append(pokedex[1]['name'])\n",
    "players[2]['player_pokemon']['pokemon'].append(pokedex[3]['name'])\n",
    "print players"
   ]
  },
  {
   "cell_type": "markdown",
   "metadata": {},
   "source": [
    "\n",
    "\n",
    "## 6. What gyms have players visited?\n",
    "\n",
    "---\n",
    "<img src=\"http://imgur.com/l5NasQj.png\" style=\"float: left; margin: 25px 15px 0px 0px; height: 25px\">\n",
    "### 6.1\n",
    "\n",
    "Write a for-loop that:\n",
    "\n",
    "1. Iterates through the `pokemon_gyms` list of gym locations you defined before.\n",
    "2. For each gym, iterate through each player in the `players` dictionary with a second, internal for-loop.\n",
    "3. If the player has visited the gym, print out \"[player] has visited [gym location].\", filling in [player] and [gym location] with the current player's name and current gym location."
   ]
  },
  {
   "cell_type": "code",
   "execution_count": 8,
   "metadata": {},
   "outputs": [
    {
     "name": "stdout",
     "output_type": "stream",
     "text": [
      "player 1 has visited reddit.com.\n",
      "player 1 has visited amazon.com.\n"
     ]
    }
   ],
   "source": [
    "#for each player in players dictionary\n",
    "for player in players:\n",
    "    # for each gym in the player's gyms visted list\n",
    "    for visted_gym in players[player]['gyms_visited']:\n",
    "        # for each gym in the total gyms\n",
    "        for gym in gym_locations:\n",
    "            \n",
    "            if visted_gym == gym:\n",
    "                \n",
    "                #print the gym that player X has visited\n",
    "                format_list = [player,gym]\n",
    "                print \"player {} has visited {}.\".format(*format_list)\n",
    "            else:\n",
    "                pass\n",
    "                    \n"
   ]
  },
  {
   "cell_type": "markdown",
   "metadata": {},
   "source": [
    "<img src=\"http://imgur.com/xDpSobf.png\" style=\"float: left; margin: 25px 15px 0px 0px; height: 25px\">\n",
    "### 6.2\n",
    "\n",
    "How many times did that loop run? If you have N gyms and also N players, how many times would it run as a function of N?\n",
    "\n",
    "Can you think of a more efficient way to accomplish the same thing? \n",
    "\n",
    "(You can write your answer as Markdown text.)"
   ]
  },
  {
   "cell_type": "markdown",
   "metadata": {
    "collapsed": true
   },
   "source": [
    "How many times did that loop run?\n",
    "    # 3 for loops\n",
    "If you have N gyms and also N players, how many times would it run as a function of N?\n",
    "    # still 3 for loops"
   ]
  },
  {
   "cell_type": "markdown",
   "metadata": {},
   "source": [
    "<img src=\"http://imgur.com/l5NasQj.png\" style=\"float: left; margin: 25px 15px 0px 0px; height: 25px\">\n",
    "\n",
    "## 7. Calculate player \"power\".\n",
    "\n",
    "---\n",
    "\n",
    "Define a function that will calculate a player's \"power\". Player power is defined as the sum of the base statistics all of their pokemon.\n",
    "\n",
    "Your function will:\n",
    "\n",
    "1. Accept the `players` dictionary, `pokedex` dictionary, and a player_id as arguments.\n",
    "2. For the specified player_id, look up that player's pokemon and their level(s).\n",
    "3. Find and aggregate the attack and defense values for each of the player's pokemon from the `pokedex` dictionary.\n",
    "4. Print \"[player name]'s power is [player power].\", where the player power is the sum of the base statistics for all of their pokemon.\n",
    "5. Return the player's power value.\n",
    "\n",
    "Print out the pokemon power for each of your players."
   ]
  },
  {
   "cell_type": "code",
   "execution_count": 9,
   "metadata": {},
   "outputs": [
    {
     "name": "stdout",
     "output_type": "stream",
     "text": [
      " kash Atchup's power is 356.\n"
     ]
    }
   ],
   "source": [
    "\n",
    "def power_of_player(players, pokedex, player_id):\n",
    "    #for each player's pokemon in player_pokemon dictionary.\n",
    "    player_power = 0\n",
    "    for each_pokemon in players[player_id]['player_pokemon']['pokemon']:\n",
    "        for pokemon_id in pokedex :\n",
    "            if each_pokemon == pokedex[pokemon_id]['name']:\n",
    "                player_power += pokedex[pokemon_id]['attack'] \n",
    "                player_power += pokedex[pokemon_id]['defense']\n",
    "    format_list = [players[player_id]['player_name'],player_power]\n",
    "    print \" {}'s power is {}.\".format(*format_list)\n",
    "\n",
    "power_of_player(players, pokedex, 2)"
   ]
  },
  {
   "cell_type": "markdown",
   "metadata": {
    "collapsed": true
   },
   "source": [
    "<img src=\"http://imgur.com/l5NasQj.png\" style=\"float: left; margin: 25px 15px 0px 0px; height: 25px\">\n",
    "\n",
    "## 8. Load a pokedex file containing all the pokemon\n",
    "\n",
    "---\n",
    "\n",
    "### 8.1\n",
    "\n",
    "While you were putting together the prototype code, your colleagues were preparing a dataset of Pokemon and their attributes. (This was a rush job, so they may have picked some crazy values for some...)\n",
    "\n",
    "The code below loads information from a comma separated value (csv) file. You need to parse this string into a more useable format. The format of the string is:\n",
    "\n",
    "- Rows are separated by newline characters: \\n\n",
    "- Columns are separated by commas: ,\n",
    "- All cells in the csv are double quoted. Ex: \"PokedexNumber\" is the first cell of the first row.\n",
    "\n",
    "\n",
    "Using for-loops, create a list of lists where each list within the overall list is a row of the csv/matrix, and each element in that list is a cell in that row. Additional criteria:\n",
    "\n",
    "1. Quotes are removed from each cell item.\n",
    "2. Numeric column values are converted to floats.\n",
    "3. There are some cells that are empty and have no information. For these cells put a -1 value in place.\n",
    "\n",
    "Your end result is effectively a matrix. Each list in the outer list is a row, and the *j*th elements of list together form the *j*th column, which represents a data attribute. The first three lists in your pokedex list should look like this:\n",
    "\n",
    "    ['PokedexNumber', 'Name', 'Type', 'Total', 'HP', 'Attack', 'Defense', 'SpecialAttack', 'SpecialDefense', 'Speed']\n",
    "    [1.0, 'Bulbasaur', 'GrassPoison', 318.0, 45.0, 49.0, 49.0, 65.0, 65.0, 45.0]\n",
    "    [2.0, 'Ivysaur', 'GrassPoison', 405.0, 60.0, 62.0, 63.0, 80.0, 80.0, 60.0]"
   ]
  },
  {
   "cell_type": "code",
   "execution_count": 10,
   "metadata": {},
   "outputs": [],
   "source": [
    "# Code to read in pokedex info\n",
    "raw_pd = ''\n",
    "pokedex_file = 'pokedex_basic.csv'\n",
    "with open(pokedex_file, 'r') as f:\n",
    "    raw_pd = f.read()\n",
    "    \n",
    "# the pokedex string is assigned to the raw_pd variable"
   ]
  },
  {
   "cell_type": "code",
   "execution_count": 12,
   "metadata": {},
   "outputs": [],
   "source": [
    "clean1 = raw_pd.splitlines()"
   ]
  },
  {
   "cell_type": "code",
   "execution_count": 190,
   "metadata": {
    "scrolled": true
   },
   "outputs": [
    {
     "name": "stdout",
     "output_type": "stream",
     "text": [
      "[['PokedexNumber', 'Name', 'Type', 'Total', 'HP', 'Attack', 'Defense', 'SpecialAttack', 'SpecialDefense', 'Speed'], [1.0, 'Bulbasaur', 'GrassPoison', 318.0, 45.0, 49.0, 49.0, 65.0, 65.0, 45.0], [2.0, 'Ivysaur', 'GrassPoison', 405.0, 60.0, 62.0, 63.0, 80.0, 80.0, 60.0]]\n"
     ]
    }
   ],
   "source": [
    "poke_dex = []\n",
    "clean1_header = clean1[0]\n",
    "clean1_data = clean1[1:]\n",
    "\n",
    "for line in clean1_data:\n",
    "    line = line.strip('\"').split('\",\"')\n",
    "    poke_dex_line = []\n",
    "    for i,l in enumerate(line):\n",
    "        \n",
    "        for l in line:\n",
    "            if l == \" \":\n",
    "                l = -1\n",
    "        if i > 2:\n",
    "            line[i] = float(line[i])\n",
    "        elif i == 0:\n",
    "            line[i] = float(line[i])\n",
    "        else:\n",
    "            pass\n",
    "        poke_dex_line.append(line[i])\n",
    "    poke_dex.append(poke_dex_line)\n",
    "# alternative solution:\n",
    "            #         try:\n",
    "            #             l = float(l)\n",
    "            #         except:\n",
    "            #             ValueError\n",
    "\n",
    "poke_dex.insert(0, clean1_header.strip('\"').split('\",\"'))\n",
    "print (poke_dex)[0:3]\n"
   ]
  },
  {
   "cell_type": "markdown",
   "metadata": {},
   "source": [
    "## <img src=\"http://imgur.com/xDpSobf.png\" style=\"float: left; margin: 25px 15px 0px 0px; height: 25px\">\n",
    "\n",
    "### 8.2 Parse the raw pokedex with list comprehensions\n",
    "\n",
    "---\n",
    "\n",
    "Perform the same parsing as above, but **using only a single list comprehension** instead of for loops. You may have nested list comprehensions within the main list comprehension! The output should be exactly the same."
   ]
  },
  {
   "cell_type": "code",
   "execution_count": 15,
   "metadata": {},
   "outputs": [],
   "source": [
    "# poke_dex = [line.strip('\"').split('\",\"') for line in clean1 for l in line]\n",
    "\n",
    "# print poke_dex"
   ]
  },
  {
   "cell_type": "markdown",
   "metadata": {},
   "source": [
    "<img src=\"http://imgur.com/l5NasQj.png\" style=\"float: left; margin: 25px 15px 0px 0px; height: 25px\">\n",
    "\n",
    "## 9. Write a function to generate the full pokedex\n",
    "\n",
    "---\n",
    "\n",
    "Write a function that recreates the pokedex you made before, but with the data read in from the full pokemon file. The `PokedexNumber` should be used as the `pokemon_id` key values for the dictionary of pokemon.\n",
    "\n",
    "Your function should:\n",
    "\n",
    "1. Take the parsed pokedex information you created above as an argument.\n",
    "2. Return a dictionary in the same format as your original pokedex you created before containing the information from the parsed full pokedex file.\n",
    "\n",
    "To test the function, print out the pokemon with id = 100."
   ]
  },
  {
   "cell_type": "code",
   "execution_count": 191,
   "metadata": {
    "scrolled": true
   },
   "outputs": [
    {
     "name": "stdout",
     "output_type": "stream",
     "text": [
      "{'Attack': 30.0,\n",
      " 'Defense': 50.0,\n",
      " 'HP': 40.0,\n",
      " 'Name': 'Voltorb',\n",
      " 'PokedexNumber': 100.0,\n",
      " 'SpecialAttack': 55.0,\n",
      " 'SpecialDefense': 55.0,\n",
      " 'Speed': 100.0,\n",
      " 'Total': 330.0,\n",
      " 'Type': 'Electric'}\n"
     ]
    }
   ],
   "source": [
    "def full_pokedex(pokedex):\n",
    "    full_pokedex_dict = {}\n",
    "    for i in range(len(pokedex)):\n",
    "        full_pokedex_dict1 = {}\n",
    "        for j in range(len(pokedex[0])):\n",
    "            full_pokedex_dict1[pokedex[0][j]] =  pokedex[i][j]\n",
    "            full_pokedex_dict[pokedex[i][0]] = full_pokedex_dict1\n",
    "    return full_pokedex_dict        \n",
    "\n",
    "pprint (full_pokedex(poke_dex)[100])\n"
   ]
  },
  {
   "cell_type": "markdown",
   "metadata": {},
   "source": [
    "<img src=\"http://i.imgur.com/GCAf1UX.png\" style=\"float: left; margin: 25px 15px 0px 0px; height: 25px\">\n",
    "\n",
    "## 10. Write a function to generate a \"filtered\" pokedex\n",
    "---\n",
    "Your function should:\n",
    "1. Take the parsed pokedex information you created above as an argument.\n",
    "1. Take a dictionary as a parameter with keys matching the features of the Pokedex, filtering by exact match for string type values, and/or filter continuous variables specified value that is greater than or equal to the dictionary key parameter.\n",
    "1. Return multiple elements from the Pokedex\n",
    "\n",
    "Example:\n",
    "\n",
    "```python\n",
    "\n",
    "# Only filter based on parameters passed\n",
    "filter_options = {\n",
    "    'Attack':   25,\n",
    "    'Defense':  30,\n",
    "    'Type':     'Electric'\n",
    "}\n",
    "\n",
    "# Return records with attack >= 24, defense >= 30, and type == \"Electric\"\n",
    "# Also anticipate that other paramters can also be passed such as \"SpecialAttack\", \"Speed\", etc.\n",
    "filtered_pokedex(pokedex_data, filter=filter_options)\n",
    "\n",
    "# Example output:\n",
    "# [{'Attack': 30.0,\n",
    "#  'Defense': 50.0,\n",
    "#  'HP': 40.0,\n",
    "#  'Name': 'Voltorb',\n",
    "#  'SpecialAttack': 55.0,\n",
    "#  'SpecialDefense': 55.0,\n",
    "#  'Speed': 100.0,\n",
    "#  'Total': 330.0,\n",
    "#  'Type': 'Electric'},\n",
    "#  {'Attack': 30.0,\n",
    "#  'Defense': 33.0,\n",
    "#  'HP': 32.0,\n",
    "#  'Name': 'Pikachu',\n",
    "#  'SpecialAttack': 55.0,\n",
    "#  'SpecialDefense': 55.0,\n",
    "#  'Speed': 100.0,\n",
    "#  'Total': 330.0,\n",
    "#  'Type': 'Electric'},\n",
    "#  ... etc\n",
    "#  ]\n",
    "\n",
    "```\n",
    "\n"
   ]
  },
  {
   "cell_type": "code",
   "execution_count": 192,
   "metadata": {},
   "outputs": [
    {
     "name": "stdout",
     "output_type": "stream",
     "text": [
      "[{'Name': 'Pikachu', 'SpecialAttack': 50.0, 'HP': 35.0, 'Speed': 90.0, 'Attack': 55.0, 'Defense': 40.0, 'PokedexNumber': 25.0, 'SpecialDefense': 50.0, 'Total': 320.0, 'Type': 'Electric'}, {'Name': 'Raichu', 'SpecialAttack': 90.0, 'HP': 60.0, 'Speed': 110.0, 'Attack': 90.0, 'Defense': 55.0, 'PokedexNumber': 26.0, 'SpecialDefense': 80.0, 'Total': 485.0, 'Type': 'Electric'}, {'Name': 'Voltorb', 'SpecialAttack': 55.0, 'HP': 40.0, 'Speed': 100.0, 'Attack': 30.0, 'Defense': 50.0, 'PokedexNumber': 100.0, 'SpecialDefense': 55.0, 'Total': 330.0, 'Type': 'Electric'}, {'Name': 'Electrode', 'SpecialAttack': 80.0, 'HP': 60.0, 'Speed': 140.0, 'Attack': 50.0, 'Defense': 70.0, 'PokedexNumber': 101.0, 'SpecialDefense': 80.0, 'Total': 480.0, 'Type': 'Electric'}, {'Name': 'Electabuzz', 'SpecialAttack': 95.0, 'HP': 65.0, 'Speed': 105.0, 'Attack': 83.0, 'Defense': 57.0, 'PokedexNumber': 125.0, 'SpecialDefense': 85.0, 'Total': 490.0, 'Type': 'Electric'}, {'Name': 'Jolteon', 'SpecialAttack': 110.0, 'HP': 65.0, 'Speed': 130.0, 'Attack': 65.0, 'Defense': 60.0, 'PokedexNumber': 135.0, 'SpecialDefense': 95.0, 'Total': 525.0, 'Type': 'Electric'}, {'Name': 'Pichu', 'SpecialAttack': 35.0, 'HP': 20.0, 'Speed': 60.0, 'Attack': 40.0, 'Defense': 15.0, 'PokedexNumber': 172.0, 'SpecialDefense': 35.0, 'Total': 205.0, 'Type': 'Electric'}, {'Name': 'Mareep', 'SpecialAttack': 65.0, 'HP': 55.0, 'Speed': 35.0, 'Attack': 40.0, 'Defense': 40.0, 'PokedexNumber': 179.0, 'SpecialDefense': 45.0, 'Total': 280.0, 'Type': 'Electric'}, {'Name': 'Flaaffy', 'SpecialAttack': 80.0, 'HP': 70.0, 'Speed': 45.0, 'Attack': 55.0, 'Defense': 55.0, 'PokedexNumber': 180.0, 'SpecialDefense': 60.0, 'Total': 365.0, 'Type': 'Electric'}, {'Name': 'Elekid', 'SpecialAttack': 65.0, 'HP': 45.0, 'Speed': 95.0, 'Attack': 63.0, 'Defense': 37.0, 'PokedexNumber': 239.0, 'SpecialDefense': 55.0, 'Total': 360.0, 'Type': 'Electric'}, {'Name': 'Raikou', 'SpecialAttack': 115.0, 'HP': 90.0, 'Speed': 115.0, 'Attack': 85.0, 'Defense': 75.0, 'PokedexNumber': 243.0, 'SpecialDefense': 100.0, 'Total': 580.0, 'Type': 'Electric'}, {'Name': 'Electrike', 'SpecialAttack': 65.0, 'HP': 40.0, 'Speed': 65.0, 'Attack': 45.0, 'Defense': 40.0, 'PokedexNumber': 309.0, 'SpecialDefense': 40.0, 'Total': 295.0, 'Type': 'Electric'}, {'Name': 'ManectricMega Manectric', 'SpecialAttack': 135.0, 'HP': 70.0, 'Speed': 135.0, 'Attack': 75.0, 'Defense': 80.0, 'PokedexNumber': 310.0, 'SpecialDefense': 80.0, 'Total': 575.0, 'Type': 'Electric'}, {'Name': 'Plusle', 'SpecialAttack': 85.0, 'HP': 60.0, 'Speed': 95.0, 'Attack': 50.0, 'Defense': 40.0, 'PokedexNumber': 311.0, 'SpecialDefense': 75.0, 'Total': 405.0, 'Type': 'Electric'}, {'Name': 'Minun', 'SpecialAttack': 75.0, 'HP': 60.0, 'Speed': 95.0, 'Attack': 40.0, 'Defense': 50.0, 'PokedexNumber': 312.0, 'SpecialDefense': 85.0, 'Total': 405.0, 'Type': 'Electric'}, {'Name': 'Shinx', 'SpecialAttack': 40.0, 'HP': 45.0, 'Speed': 45.0, 'Attack': 65.0, 'Defense': 34.0, 'PokedexNumber': 403.0, 'SpecialDefense': 34.0, 'Total': 263.0, 'Type': 'Electric'}, {'Name': 'Luxio', 'SpecialAttack': 60.0, 'HP': 60.0, 'Speed': 60.0, 'Attack': 85.0, 'Defense': 49.0, 'PokedexNumber': 404.0, 'SpecialDefense': 49.0, 'Total': 363.0, 'Type': 'Electric'}, {'Name': 'Luxray', 'SpecialAttack': 95.0, 'HP': 80.0, 'Speed': 70.0, 'Attack': 120.0, 'Defense': 79.0, 'PokedexNumber': 405.0, 'SpecialDefense': 79.0, 'Total': 523.0, 'Type': 'Electric'}, {'Name': 'Pachirisu', 'SpecialAttack': 45.0, 'HP': 60.0, 'Speed': 95.0, 'Attack': 45.0, 'Defense': 70.0, 'PokedexNumber': 417.0, 'SpecialDefense': 90.0, 'Total': 405.0, 'Type': 'Electric'}, {'Name': 'Electivire', 'SpecialAttack': 95.0, 'HP': 75.0, 'Speed': 95.0, 'Attack': 123.0, 'Defense': 67.0, 'PokedexNumber': 466.0, 'SpecialDefense': 85.0, 'Total': 540.0, 'Type': 'Electric'}, {'Name': 'Blitzle', 'SpecialAttack': 50.0, 'HP': 45.0, 'Speed': 76.0, 'Attack': 60.0, 'Defense': 32.0, 'PokedexNumber': 522.0, 'SpecialDefense': 32.0, 'Total': 295.0, 'Type': 'Electric'}, {'Name': 'Zebstrika', 'SpecialAttack': 80.0, 'HP': 75.0, 'Speed': 116.0, 'Attack': 100.0, 'Defense': 63.0, 'PokedexNumber': 523.0, 'SpecialDefense': 63.0, 'Total': 497.0, 'Type': 'Electric'}, {'Name': 'Tynamo', 'SpecialAttack': 45.0, 'HP': 35.0, 'Speed': 60.0, 'Attack': 55.0, 'Defense': 40.0, 'PokedexNumber': 602.0, 'SpecialDefense': 40.0, 'Total': 275.0, 'Type': 'Electric'}, {'Name': 'Eelektrik', 'SpecialAttack': 75.0, 'HP': 65.0, 'Speed': 40.0, 'Attack': 85.0, 'Defense': 70.0, 'PokedexNumber': 603.0, 'SpecialDefense': 70.0, 'Total': 405.0, 'Type': 'Electric'}, {'Name': 'Eelektross', 'SpecialAttack': 105.0, 'HP': 85.0, 'Speed': 50.0, 'Attack': 115.0, 'Defense': 80.0, 'PokedexNumber': 604.0, 'SpecialDefense': 80.0, 'Total': 515.0, 'Type': 'Electric'}]\n"
     ]
    }
   ],
   "source": [
    "filter_options = {\n",
    "    'Attack':   100,\n",
    "    'Defense':  100,\n",
    "    'Type':     'Electric'\n",
    "}\n",
    "\n",
    "\n",
    "\n",
    "def filtered_pokedex(pokedex_data, filter_options):\n",
    "    filtered_dic_list = []\n",
    "    for l in pokedex_data.keys(): # for every pokemon id number.\n",
    "        \n",
    "\n",
    "        for key1 in filter_options.items():\n",
    "            key2 = key1[0] \n",
    "            key3 = key1[1]\n",
    "            if isinstance(key3,str):# filter by type first\n",
    "                if pokedex_data[l][key2] == filter_options[key2]:\n",
    "                    filtered_dic_list.append(pokedex_data[l])\n",
    "                    \n",
    "#         for key1 in filter_options.items():\n",
    "#             key2 = key1[0]                     \n",
    "#             if pokedex_data[l][key2] >= filter_options[key2]:# filter by other attributes \n",
    "#                 filtered_dic_list.append(pokedex_data[l])                          \n",
    "    print filtered_dic_list\n",
    "\n",
    "\n",
    "\n",
    "filtered_pokedex(full_pokedex(poke_dex), filter_options)"
   ]
  },
  {
   "cell_type": "code",
   "execution_count": null,
   "metadata": {},
   "outputs": [],
   "source": []
  },
  {
   "cell_type": "markdown",
   "metadata": {
    "collapsed": true
   },
   "source": [
    "\n",
    "## 9. Descriptive statistics on the prototype pokedex\n",
    "\n",
    "<img src=\"http://imgur.com/l5NasQj.png\" style=\"float: left; margin: 25px 15px 0px 0px; height: 25px\">\n",
    "### 9.1\n",
    "\n",
    "What is the population mean and standard deviation of the \"Total\" attribute for all characters in the Pokedex?\n",
    "\n"
   ]
  },
  {
   "cell_type": "code",
   "execution_count": 177,
   "metadata": {},
   "outputs": [
    {
     "name": "stdout",
     "output_type": "stream",
     "text": [
      "Population mean: 435.1275\n",
      "Population standard deviation: 119.96202000529168\n"
     ]
    }
   ],
   "source": [
    "import numpy as np\n",
    "total_attr_list = []\n",
    "for rows in poke_dex:\n",
    "    total_attr_list.append(rows[3])\n",
    "print \"Population mean:\", np.mean(total_attr_list)\n",
    "print \"Population standard deviation:\", np.std(total_attr_list)"
   ]
  },
  {
   "cell_type": "markdown",
   "metadata": {},
   "source": [
    "<img src=\"http://imgur.com/l5NasQj.png\" style=\"float: left; margin: 25px 15px 0px 0px; height: 25px\">\n",
    "### 9.2\n",
    "\n",
    "The game is no fun if the characters are wildly unbalanced! Are any characters \"overpowered\", which we'll define as having a \"Total\" more than three standard deviations from the population mean?"
   ]
  },
  {
   "cell_type": "code",
   "execution_count": 182,
   "metadata": {},
   "outputs": [
    {
     "name": "stdout",
     "output_type": "stream",
     "text": [
      "MewtwoMega Mewtwo X has a total of  800.0 total attribute.\n"
     ]
    }
   ],
   "source": [
    "overpowered = np.mean(total_attr_list) + (3*(np.std(total_attr_list)))\n",
    "for rows in poke_dex:\n",
    "    if rows[3] >= overpowered:\n",
    "        print rows[1],\"has a total of \",rows[3],\"total attribute.\" \n"
   ]
  },
  {
   "cell_type": "markdown",
   "metadata": {},
   "source": [
    "<img src=\"http://imgur.com/xDpSobf.png\" style=\"float: left; margin: 25px 15px 0px 0px; height: 25px\">\n",
    "\n",
    "## 10. Calibrate the frequency of Pokemon\n",
    "\n",
    "The design team wants you to make the powerful Pokemon rare, and the weaklings more common. How would you set the probability $p_i$ of finding Pokemon *i* each time a player visits a gym?\n",
    "\n",
    "Write a function that takes in a Pokedex number and returns a value $p_i$ for that character.\n",
    "\n",
    "Hint: there are many ways you could do this. What do _you_ think makes sense? Start with simplifying assumptions: for example, you could assume that the probabilities of encountering any two Pokemon on one visit to a gym are independent of each other."
   ]
  },
  {
   "cell_type": "code",
   "execution_count": null,
   "metadata": {},
   "outputs": [],
   "source": []
  }
 ],
 "metadata": {
  "anaconda-cloud": {},
  "kernelspec": {
   "display_name": "Python 2",
   "language": "python",
   "name": "python2"
  },
  "language_info": {
   "codemirror_mode": {
    "name": "ipython",
    "version": 2
   },
   "file_extension": ".py",
   "mimetype": "text/x-python",
   "name": "python",
   "nbconvert_exporter": "python",
   "pygments_lexer": "ipython2",
   "version": "2.7.15"
  }
 },
 "nbformat": 4,
 "nbformat_minor": 1
}
